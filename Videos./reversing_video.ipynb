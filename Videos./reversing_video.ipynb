{
 "cells": [
  {
   "cell_type": "code",
   "execution_count": 18,
   "id": "4b01e26b-b77d-42f4-a62f-0d671a2bb7b8",
   "metadata": {},
   "outputs": [],
   "source": [
    "import cv2\n",
    "import datetime"
   ]
  },
  {
   "cell_type": "code",
   "execution_count": 30,
   "id": "9971ac03",
   "metadata": {},
   "outputs": [
    {
     "name": "stdout",
     "output_type": "stream",
     "text": [
      "Frames are 25.0\n"
     ]
    },
    {
     "name": "stderr",
     "output_type": "stream",
     "text": [
      "[mjpeg @ 0x558388eb8b80] overread 8\n"
     ]
    }
   ],
   "source": [
    "# instance of video capture\n",
    "cap = cv2.VideoCapture('0')\n",
    "\n",
    "#Checking if the camera is opened or not\n",
    "opened = cap.isOpened()\n",
    "\n",
    "#fourcc - four character code for determining the codec of the video file\n",
    "fourcc = cv2.VideoWriter_fourcc(*'MJPG')\n",
    "\n",
    "\n",
    "#Getting the properties of the video using video capture instance\n",
    "height = cap.get(cv2.CAP_PROP_FRAME_HEIGHT)\n",
    "width = cap.get(cv2.CAP_PROP_FRAME_WIDTH)\n",
    "fps = cap.get(cv2.CAP_PROP_FPS)\n",
    "recwidth,recheight=250,20\n",
    "\n",
    "# output video writer creation\n",
    "out = cv2.VideoWriter('new_vid.avi', fourcc,fps ,(int(width/2),int(height/2)))\n",
    "\n",
    "\n",
    "\n",
    "#Showing and storing the live camera feed\n",
    "#Check if camera is opened\n",
    "if(opened):\n",
    "    while(cap.isOpened()):\n",
    "        ret, frame = cap.read()\n",
    "        #return ret Variable tells if the frame is returned successfully\n",
    "        if(ret==True):\n",
    "            datet=str(datetime.datetime.now())\n",
    "            font=cv2.FONT_HERSHEY_SIMPLEX\n",
    "            frame=cv2.resize(frame,(int(width/2),int(height/2)))\n",
    "            frame=cv2.rectangle(frame,(0,int(height/2)-recheight),(recwidth,int(height/2)),(0,255,255),-1)\n",
    "            frame=cv2.putText(frame,datet,(3,int(height/2)-3),font,0.5,(0,0,255),1,cv2.LINE_AA)\n",
    "            cv2.imshow('mobilecam', frame)\n",
    "            #Writing the frame to video output\n",
    "            out.write(frame)\n",
    "            if(cv2.waitKey(1)==27):\n",
    "                break\n",
    "out.release()\n",
    "cap.release()\n",
    "cv2.destroyAllWindows()"
   ]
  },
  {
   "cell_type": "code",
   "execution_count": 32,
   "id": "cc1fb976-98e4-442d-986f-2d849478393f",
   "metadata": {},
   "outputs": [
    {
     "name": "stdout",
     "output_type": "stream",
     "text": [
      "Frames are 686.0\n",
      "600.0\n",
      "500.0\n",
      "400.0\n",
      "300.0\n",
      "200.0\n",
      "100.0\n",
      "0.0\n"
     ]
    }
   ],
   "source": [
    "#show all the frames in reverse order\n",
    "# instance of video capture\n",
    "cap = cv2.VideoCapture('jj.avi')\n",
    "\n",
    "#Checking if the camera is opened or not\n",
    "opened = cap.isOpened()\n",
    "\n",
    "#fourcc - four character code for determining the codec of the video file\n",
    "fourcc = cv2.VideoWriter_fourcc(*'MJPG')\n",
    "\n",
    "\n",
    "#Getting the properties of the video using video capture instance\n",
    "height = cap.get(cv2.CAP_PROP_FRAME_HEIGHT)\n",
    "width = cap.get(cv2.CAP_PROP_FRAME_WIDTH)\n",
    "fps = cap.get(cv2.CAP_PROP_FPS)\n",
    "frames=cap.get(cv2.CAP_PROP_FRAME_COUNT)\n",
    "\n",
    "# output reverse video writer creation\n",
    "out = cv2.VideoWriter('reversed.avi', fourcc,fps ,(int(width),int(height)))\n",
    "\n",
    "print(\"Frames in video \",frames)\n",
    "\n",
    "framed=frames-1;\n",
    "#Showing and storing the live camera feed\n",
    "#Check if camera is opened\n",
    "if(opened):\n",
    "    while(framed>=0):\n",
    "        cap.set(cv2.CAP_PROP_POS_FRAMES,framed)\n",
    "        ret, frame = cap.read()\n",
    "        if(ret==True):\n",
    "            # frame=cv2.resize(frame,(int(width),int(height)))\n",
    "            cv2.imshow('reverse', frame)\n",
    "            #Writing the frame to video output\n",
    "            out.write(frame)\n",
    "            framed=framed-1;\n",
    "            if(framed%100==0):\n",
    "                print(framed)\n",
    "            if(cv2.waitKey(2)==27):\n",
    "                break\n",
    "out.release()\n",
    "cap.release()\n",
    "cv2.destroyAllWindows()"
   ]
  },
  {
   "cell_type": "code",
   "execution_count": 1,
   "id": "75c69c62-7be0-460e-a6a8-15d5374ed860",
   "metadata": {},
   "outputs": [
    {
     "name": "stdout",
     "output_type": "stream",
     "text": [
      "13:47:50.626270\n",
      "2022-03-29\n",
      "13\n",
      "47\n",
      "50\n"
     ]
    }
   ],
   "source": [
    "import datetime\n",
    "\n",
    "dt=datetime.datetime.now()\n",
    "print(dt.time())\n",
    "print(dt.date())\n",
    "print(h:=int(str(dt.time()).split(':')[0]))\n",
    "print(m:=int(str(dt.time()).split(':')[1]))\n",
    "print(s:=int((str(dt.time()).split(':')[2]).split('.')[0]))"
   ]
  }
 ],
 "metadata": {
  "kernelspec": {
   "display_name": "Python 3 (ipykernel)",
   "language": "python",
   "name": "python3"
  },
  "language_info": {
   "codemirror_mode": {
    "name": "ipython",
    "version": 3
   },
   "file_extension": ".py",
   "mimetype": "text/x-python",
   "name": "python",
   "nbconvert_exporter": "python",
   "pygments_lexer": "ipython3",
   "version": "3.9.7"
  }
 },
 "nbformat": 4,
 "nbformat_minor": 5
}
