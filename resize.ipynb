{
 "cells": [
  {
   "cell_type": "markdown",
   "id": "67b1f67b-089d-4ba3-9425-09107dfa39e2",
   "metadata": {},
   "source": [
    "# IMPORTING necessary libraries"
   ]
  },
  {
   "cell_type": "code",
   "execution_count": 25,
   "id": "c4625998-5be1-49c0-bba3-97e38de4ac18",
   "metadata": {},
   "outputs": [],
   "source": [
    "import os\n",
    "import numpy as np\n",
    "import matplotlib.pyplot as plt\n",
    "from PIL import Image"
   ]
  },
  {
   "cell_type": "code",
   "execution_count": 26,
   "id": "cb0bad37-6e16-406f-9e73-8db265b564fe",
   "metadata": {},
   "outputs": [],
   "source": [
    "import cv2"
   ]
  },
  {
   "cell_type": "markdown",
   "id": "b4d5b9c1-7257-4155-b0d9-57c1dc914767",
   "metadata": {},
   "source": [
    "## ENTERING THE DIRECTORY CONTAINING IMAGES\n"
   ]
  },
  {
   "cell_type": "code",
   "execution_count": 27,
   "id": "501ce7e0-abe7-4fde-b2a7-c566817c6739",
   "metadata": {},
   "outputs": [],
   "source": [
    "#dir_path=input(\"Enter the path to the directory\")\n",
    "dir_path='/home/PycharmProjects/OpenCVPython/Resources'"
   ]
  },
  {
   "cell_type": "markdown",
   "id": "1ff301ad-5cde-4cac-8773-ee03d89baf55",
   "metadata": {},
   "source": [
    "##  CHANGING CURRENT DIRECTORY TO THE INPUT DIR"
   ]
  },
  {
   "cell_type": "code",
   "execution_count": 28,
   "id": "164278d0-8ff1-455b-aa9e-e2495d055ef0",
   "metadata": {},
   "outputs": [],
   "source": [
    "allfiles=os.listdir(dir_path)\n",
    "os.chdir(dir_path)"
   ]
  },
  {
   "cell_type": "markdown",
   "id": "8b205858-d3a2-432f-b198-218c551767d1",
   "metadata": {},
   "source": [
    "## MAKING LIST OF ALL IMAGE EXTENSIONS"
   ]
  },
  {
   "cell_type": "code",
   "execution_count": 29,
   "id": "e2e846f7-0d88-4321-a5e9-1e9b3a8d1a71",
   "metadata": {},
   "outputs": [],
   "source": [
    "ext_list=[\".jpg\",\".JPG\",\".png\",\".PNG\",\".jpeg\",\".JPEG\"]"
   ]
  },
  {
   "cell_type": "code",
   "execution_count": null,
   "id": "bf956a50-b7bc-4814-8d32-831a03da7b62",
   "metadata": {},
   "outputs": [],
   "source": []
  },
  {
   "cell_type": "markdown",
   "id": "be50c4b7-ed5c-471c-ae81-78d946efd069",
   "metadata": {},
   "source": [
    "## FUNCTION TO RESIZE IMAGES WITH HEIGHT BEING 360PIXELS (ASPECT RATIO)"
   ]
  },
  {
   "cell_type": "code",
   "execution_count": 30,
   "id": "8f166387-dcff-4e9c-9177-120b075c6743",
   "metadata": {},
   "outputs": [],
   "source": [
    "#function to resize the image to 360*240\n",
    "\n",
    "def resize(image,dir_path,file):\n",
    "    \n",
    "    def_h=360\n",
    "    def_w=240\n",
    "    \n",
    "    img=cv2.imread(image)\n",
    "    img=cv2.cvtColor(img,cv2.COLOR_BGR2RGB)\n",
    "    shape = len(img.shape)\n",
    "    if img.shape[:2] == (def_w,def_h) :\n",
    "        img=cv2.rotate(img,cv2.cv2.ROTATE_90_CLOCKWISE)\n",
    "        return\n",
    "    if img.shape[0]<def_h :\n",
    "        return\n",
    "\n",
    "    \n",
    "    dimns=img.shape\n",
    "    # print(dimns)\n",
    "    a=dimns[0]/def_h\n",
    "    # print('Scaling factor ',a)\n",
    "    b=int((dimns[1])/a)\n",
    "    # print('second dim ',b)\n",
    "    img=cv2.resize(img,(b,def_h))\n",
    "    \n",
    "    \n",
    "    #saving the resized image\n",
    "    if (file.find('resize') == -1 ):\n",
    "        final_name=file\n",
    "        image=cv2.cvtColor(img,cv2.COLOR_RGB2BGR)\n",
    "        cv2.imwrite(dir_path+final_name,image)\n",
    "    else:\n",
    "        pass\n"
   ]
  },
  {
   "cell_type": "markdown",
   "id": "0229c56f-b1de-4900-8587-370600dbf963",
   "metadata": {},
   "source": [
    "### FUNCTION TO ORIENT IMAGES TO LANDSCAPE MODE"
   ]
  },
  {
   "cell_type": "code",
   "execution_count": 31,
   "id": "09d4854a-9d75-44de-8722-2f82b2976adb",
   "metadata": {},
   "outputs": [],
   "source": [
    "def orient(image,dir_path,file):\n",
    "    img=cv2.imread(image)\n",
    "    img=cv2.cvtColor(img,cv2.COLOR_BGR2RGB)\n",
    "    if img.shape[0]>img.shape[1]:\n",
    "        img=cv2.rotate(img,cv2.cv2.ROTATE_90_CLOCKWISE)\n",
    "    \n",
    "    #saving the resized image\n",
    "    if (file.find('resize') == -1 ):\n",
    "        final_name=file\n",
    "        image=cv2.cvtColor(img,cv2.COLOR_RGB2BGR)\n",
    "        cv2.imwrite(dir_path+final_name,image)\n",
    "    else:\n",
    "        pass\n",
    "    return\n"
   ]
  },
  {
   "cell_type": "markdown",
   "id": "73c71461-2c2a-4fb2-9e14-8834c7b36651",
   "metadata": {},
   "source": [
    "### FUNCTION TO SAVE IMAGE TO A GIVEN FOLDER"
   ]
  },
  {
   "cell_type": "code",
   "execution_count": 32,
   "id": "690f07d5-deb4-4c3f-bd89-a20942ff1896",
   "metadata": {},
   "outputs": [],
   "source": [
    "#function to save the resized image \n",
    "\n",
    "def save_resize(image,dir_path,file):\n",
    "    if (file.find('resize') == -1 ):\n",
    "        final_name='resize'+file\n",
    "        image=cv2.cvtColor(image,cv2.COLOR_RGB2BGR)\n",
    "        cv2.imwrite(final_name,image)\n",
    "    else:\n",
    "        pass\n",
    "    "
   ]
  },
  {
   "cell_type": "code",
   "execution_count": 33,
   "id": "ed7c1351-3372-47ea-920c-4162808432ff",
   "metadata": {},
   "outputs": [],
   "source": [
    "for file in allfiles:\n",
    "    file_name, file_extension = os.path.splitext(file)\n",
    "    if file_extension in ext_list :\n",
    "        #orient(str(file),dir_path,file)\n",
    "        # array=orient(str(file),dir_path,file)\n",
    "        # resize(str(file),dir_path,file)"
   ]
  }
 ],
 "metadata": {
  "kernelspec": {
   "display_name": "Python 3 (ipykernel)",
   "language": "python",
   "name": "python3"
  },
  "language_info": {
   "codemirror_mode": {
    "name": "ipython",
    "version": 3
   },
   "file_extension": ".py",
   "mimetype": "text/x-python",
   "name": "python",
   "nbconvert_exporter": "python",
   "pygments_lexer": "ipython3",
   "version": "3.9.7"
  }
 },
 "nbformat": 4,
 "nbformat_minor": 5
}
